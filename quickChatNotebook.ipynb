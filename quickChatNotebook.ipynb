{
 "cells": [
  {
   "cell_type": "code",
   "execution_count": 1,
   "metadata": {},
   "outputs": [],
   "source": [
    "from huggingface_hub import InferenceClient\n",
    "import gradio as gr"
   ]
  },
  {
   "cell_type": "code",
   "execution_count": 9,
   "metadata": {},
   "outputs": [],
   "source": [
    "\"\"\"\n",
    "Chat engine.\n",
    "\n",
    "TODOs:\n",
    "- Better prompts.\n",
    "- Output reader / parser.\n",
    "- Agents for evaluation and task planning / splitting.\n",
    "    * Haystack for orchestration\n",
    "- Tools for agents\n",
    "    * Haystack for orchestration\n",
    "- \n",
    "\n",
    "\"\"\"\n",
    "\n",
    "\n",
    "client = InferenceClient(\"mistralai/Mixtral-8x7B-Instruct-v0.1\")\n",
    "\n",
    "def query_submit(user_message, history):\n",
    "    return \"\", history + [[user_message, None]]\n",
    "  \n",
    "def format_prompt(query, history, lookback):\n",
    "    prompt = \"Responses should be no more than 100 words long.\\n\"\n",
    "    \n",
    "    for previous_query, prevous_completion in history[-lookback:]:\n",
    "        prompt += f\"<s>[INST] {previous_query} [/INST] {prevous_completion}</s> \"\n",
    "    \n",
    "    prompt += f\"[INST] {query} [/INST]\"\n",
    "  \n",
    "    return prompt\n",
    "\n",
    "def query_completion(\n",
    "    query,\n",
    "    history,\n",
    "    lookback = 3,\n",
    "    max_new_tokens = 256,\n",
    "):\n",
    "\n",
    "    generateKwargs = dict(\n",
    "        max_new_tokens = max_new_tokens,\n",
    "        seed = 1337,\n",
    "    )\n",
    "\n",
    "    formatted_query = format_prompt(query, history, lookback)\n",
    "    \n",
    "    stream = client.text_generation(\n",
    "        formatted_query,\n",
    "        **generateKwargs,\n",
    "        stream = True,\n",
    "        details = True,\n",
    "        return_full_text = False\n",
    "    )\n",
    "    \n",
    "    history[-1][1] = \"\"\n",
    "    \n",
    "    for response in stream:\n",
    "        history[-1][1] += response.token.text\n",
    "        yield history"
   ]
  },
  {
   "cell_type": "code",
   "execution_count": 11,
   "metadata": {},
   "outputs": [
    {
     "name": "stdout",
     "output_type": "stream",
     "text": [
      "Running on local URL:  http://127.0.0.1:7865\n",
      "\n",
      "To create a public link, set `share=True` in `launch()`.\n"
     ]
    },
    {
     "data": {
      "text/html": [
       "<div><iframe src=\"http://127.0.0.1:7865/\" width=\"100%\" height=\"500\" allow=\"autoplay; camera; microphone; clipboard-read; clipboard-write;\" frameborder=\"0\" allowfullscreen></iframe></div>"
      ],
      "text/plain": [
       "<IPython.core.display.HTML object>"
      ]
     },
     "metadata": {},
     "output_type": "display_data"
    },
    {
     "data": {
      "text/plain": []
     },
     "execution_count": 11,
     "metadata": {},
     "output_type": "execute_result"
    }
   ],
   "source": [
    "\"\"\"\n",
    "Chat UI using Gradio Blocks.\n",
    "\n",
    "Blocks preferred for lower-level \"atomic\" layout control and state management.\n",
    "\n",
    "TODOs:\n",
    "- State management for dynamic components update.\n",
    "- Add scratpad readout to right of chat log.\n",
    "    * Placeholder added for now.\n",
    "- Add functionality to retry button.\n",
    "    * Placeholder added for now.\n",
    "\n",
    "\"\"\"\n",
    "\n",
    "with gr.Blocks() as chatUI:\n",
    "    with gr.Row():\n",
    "        chatOutput = gr.Chatbot(\n",
    "            bubble_full_width = False,\n",
    "            scale = 2\n",
    "        )\n",
    "        agentWhiteBoard = gr.Markdown(scale = 1)\n",
    "            \n",
    "    with gr.Row():\n",
    "        queryInput = gr.Textbox(\n",
    "            placeholder = \"Please enter you question or request here...\",\n",
    "            show_label = False,\n",
    "            scale = 4\n",
    "        )\n",
    "        submitButton = gr.Button(\"Submit\", scale = 1)\n",
    "        \n",
    "    with gr.Row():\n",
    "        retry = gr.Button(\"Retry (null)\")\n",
    "        clear = gr.ClearButton([queryInput, chatOutput])\n",
    "    \n",
    "    # gr.State()\n",
    "    \n",
    "    queryInput.submit(\n",
    "        fn = query_submit,\n",
    "        inputs = [queryInput, chatOutput],\n",
    "        outputs = [queryInput, chatOutput],\n",
    "        queue = False,\n",
    "    ).then(\n",
    "        fn = query_completion,\n",
    "        inputs = [queryInput, chatOutput],\n",
    "        outputs = [chatOutput],\n",
    "    )\n",
    "    \n",
    "    submitButton.click(\n",
    "        fn = query_submit,\n",
    "        inputs = [queryInput, chatOutput],\n",
    "        outputs = [queryInput, chatOutput],\n",
    "        queue = False,\n",
    "    ).then(\n",
    "        fn = query_completion,\n",
    "        inputs = [queryInput, chatOutput],\n",
    "        outputs = [chatOutput],\n",
    "    )\n",
    "\n",
    "chatUI.queue()\n",
    "chatUI.launch(show_api = False)"
   ]
  }
 ],
 "metadata": {
  "kernelspec": {
   "display_name": ".venv",
   "language": "python",
   "name": "python3"
  },
  "language_info": {
   "codemirror_mode": {
    "name": "ipython",
    "version": 3
   },
   "file_extension": ".py",
   "mimetype": "text/x-python",
   "name": "python",
   "nbconvert_exporter": "python",
   "pygments_lexer": "ipython3",
   "version": "3.11.7"
  }
 },
 "nbformat": 4,
 "nbformat_minor": 2
}
